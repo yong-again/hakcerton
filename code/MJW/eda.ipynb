{
 "cells": [
  {
   "cell_type": "code",
   "execution_count": 1,
   "metadata": {},
   "outputs": [],
   "source": [
    "# kaggel에서 데이터 다운 받기\n",
    "# import opendatasets as od\n",
    "# od.download('https://www.kaggle.com/datasets/uciml/student-alcohol-consumption?select=student-mat.csv')"
   ]
  },
  {
   "cell_type": "code",
   "execution_count": 2,
   "metadata": {},
   "outputs": [],
   "source": [
    "import numpy as np\n",
    "import pandas as pd\n",
    "import matplotlib.pyplot as plt \n",
    "import seaborn as sns\n",
    "import plotly.express as px # plotly라는 시각화라이브러리\n",
    "import plotly.graph_objects as go\n",
    "from plotly.subplots import make_subplots\n",
    "\n",
    "import missingno as msno # 결측치를 확인할 수 있는 라이브러리\n",
    "import os\n",
    "import sys\n",
    "import warnings\n",
    "import chart_studio\n",
    "import chart_studio.plotly as py\n",
    "\n",
    "warnings.filterwarnings('ignore')\n",
    "\n",
    "# pandas 옵션 지정 -> 최대 컬럼 수 출력, float는 2자리까지 출력\n",
    "pd.options.display.max_columns = 50\n",
    "pd.options.display.float_format = '{:.2f}'.format"
   ]
  },
  {
   "cell_type": "markdown",
   "metadata": {},
   "source": [
    "# ****About Dataset****\n",
    "\n",
    "1. school - student's school (binary: 'GP' - Gabriel Pereira or 'MS' - Mousinho da Silveira)\n",
    "2. sex - student's sex (binary: 'F' - female or 'M' - male)\n",
    "3. age - student's age (numeric: from 15 to 22)\n",
    "4. address - student's home address type (binary: 'U' - urban or 'R' - rural)\n",
    "5. famsize - family size (binary: 'LE3' - less or equal to 3 or 'GT3' - greater than 3)\n",
    "6. Pstatus - parent's cohabitation status (binary: 'T' - living together or 'A' - apart)\n",
    "7. Medu - mother's education (numeric: 0 - none, 1 - primary education (4th grade), 2 – 5th to 9th grade, 3 – secondary education or 4 – higher education)\n",
    "8. Fedu - father's education (numeric: 0 - none, 1 - primary education (4th grade), 2 – 5th to 9th grade, 3 – secondary education or 4 – higher education)\n",
    "9. Mjob - mother's job (nominal: 'teacher', 'health' care related, civil 'services' (e.g. administrative or police), 'at_home' or 'other')\n",
    "10. Fjob - father's job (nominal: 'teacher', 'health' care related, civil 'services' (e.g. administrative or police), 'at_home' or 'other')\n",
    "11. reason - reason to choose this school (nominal: close to 'home', school 'reputation', 'course' preference or 'other')\n",
    "12. guardian - student's guardian (nominal: 'mother', 'father' or 'other')\n",
    "13. traveltime - home to school travel time (numeric: 1 - <15 min., 2 - 15 to 30 min., 3 - 30 min. to 1 hour, or 4 - >1 hour)\n",
    "14. studytime - weekly study time (numeric: 1 - <2 hours, 2 - 2 to 5 hours, 3 - 5 to 10 hours, or 4 - >10 hours)\n",
    "15. failures - number of past class failures (numeric: n if 1<=n<3, else 4)\n",
    "16. schoolsup - extra educational support (binary: yes or no)\n",
    "17. famsup - family educational support (binary: yes or no)\n",
    "18. paid - extra paid classes within the course subject (Math or Portuguese) (binary: yes or no)\n",
    "19. activities - extra-curricular activities (binary: yes or no)\n",
    "20. nursery - attended nursery school (binary: yes or no)\n",
    "21. higher - wants to take higher education (binary: yes or no)\n",
    "22. internet - Internet access at home (binary: yes or no)\n",
    "23. romantic - with a romantic relationship (binary: yes or no)\n",
    "24. famrel - quality of family relationships (numeric: from 1 - very bad to 5 - excellent)\n",
    "25. freetime - free time after school (numeric: from 1 - very low to 5 - very high)\n",
    "26. goout - going out with friends (numeric: from 1 - very low to 5 - very high)\n",
    "27. Dalc - workday alcohol consumption (numeric: from 1 - very low to 5 - very high)\n",
    "28. Walc - weekend alcohol consumption (numeric: from 1 - very low to 5 - very high)\n",
    "29. health - current health status (numeric: from 1 - very bad to 5 - very good)\n",
    "30. absences - number of school absences (numeric: from 0 to 93)\n",
    "\n",
    "These grades are related with the course subject, Math or Portuguese:\n",
    "\n",
    "1. G1 - first period grade (numeric: from 0 to 20)\n",
    "2. G2 - second period grade (numeric: from 0 to 20)\n",
    "3. G3 - final grade (numeric: from 0 to 20, output target)"
   ]
  },
  {
   "cell_type": "markdown",
   "metadata": {},
   "source": [
    "- 포르투갈 교육제도\n",
    "  - 유치원 : 3 ~ 5세\n",
    "  - 초등교육학교 : 6 ~ 10세\n",
    "  - 중등교육학교 : 10 ~ 15세\n",
    "  - 고등 교육: 15 ~ 18세\n",
    "  - 주무부처 : 교육부\n",
    "  - 공립(무료) 사립 선택 가능\n",
    "  - "
   ]
  },
  {
   "cell_type": "markdown",
   "metadata": {},
   "source": [
    "- school\n",
    "  - GP : 공립학교, 리스본 중심지에 위치, 각 지역에 캠퍼스가 있음\n",
    "  - "
   ]
  },
  {
   "cell_type": "code",
   "execution_count": 3,
   "metadata": {},
   "outputs": [
    {
     "ename": "FileNotFoundError",
     "evalue": "[Errno 2] No such file or directory: '/Users/jwmoon/git/hakcerton/data/student-alcohol-consumption/student-mat.csv'",
     "output_type": "error",
     "traceback": [
      "\u001b[0;31m---------------------------------------------------------------------------\u001b[0m",
      "\u001b[0;31mFileNotFoundError\u001b[0m                         Traceback (most recent call last)",
      "Cell \u001b[0;32mIn [3], line 1\u001b[0m\n\u001b[0;32m----> 1\u001b[0m mat_df \u001b[38;5;241m=\u001b[39m \u001b[43mpd\u001b[49m\u001b[38;5;241;43m.\u001b[39;49m\u001b[43mread_csv\u001b[49m\u001b[43m(\u001b[49m\u001b[38;5;124;43m'\u001b[39;49m\u001b[38;5;124;43m~/git/hakcerton/data/student-alcohol-consumption/student-mat.csv\u001b[39;49m\u001b[38;5;124;43m'\u001b[39;49m\u001b[43m)\u001b[49m\n\u001b[1;32m      2\u001b[0m pot_df \u001b[38;5;241m=\u001b[39m pd\u001b[38;5;241m.\u001b[39mread_csv(\u001b[38;5;124m'\u001b[39m\u001b[38;5;124m~/git/hakcerton/data/student-alcohol-consumption/student-por.csv\u001b[39m\u001b[38;5;124m'\u001b[39m)\n",
      "File \u001b[0;32m~/miniforge3/envs/tf25/lib/python3.8/site-packages/pandas/util/_decorators.py:311\u001b[0m, in \u001b[0;36mdeprecate_nonkeyword_arguments.<locals>.decorate.<locals>.wrapper\u001b[0;34m(*args, **kwargs)\u001b[0m\n\u001b[1;32m    305\u001b[0m \u001b[38;5;28;01mif\u001b[39;00m \u001b[38;5;28mlen\u001b[39m(args) \u001b[38;5;241m>\u001b[39m num_allow_args:\n\u001b[1;32m    306\u001b[0m     warnings\u001b[38;5;241m.\u001b[39mwarn(\n\u001b[1;32m    307\u001b[0m         msg\u001b[38;5;241m.\u001b[39mformat(arguments\u001b[38;5;241m=\u001b[39marguments),\n\u001b[1;32m    308\u001b[0m         \u001b[38;5;167;01mFutureWarning\u001b[39;00m,\n\u001b[1;32m    309\u001b[0m         stacklevel\u001b[38;5;241m=\u001b[39mstacklevel,\n\u001b[1;32m    310\u001b[0m     )\n\u001b[0;32m--> 311\u001b[0m \u001b[38;5;28;01mreturn\u001b[39;00m \u001b[43mfunc\u001b[49m\u001b[43m(\u001b[49m\u001b[38;5;241;43m*\u001b[39;49m\u001b[43margs\u001b[49m\u001b[43m,\u001b[49m\u001b[43m \u001b[49m\u001b[38;5;241;43m*\u001b[39;49m\u001b[38;5;241;43m*\u001b[39;49m\u001b[43mkwargs\u001b[49m\u001b[43m)\u001b[49m\n",
      "File \u001b[0;32m~/miniforge3/envs/tf25/lib/python3.8/site-packages/pandas/io/parsers/readers.py:678\u001b[0m, in \u001b[0;36mread_csv\u001b[0;34m(filepath_or_buffer, sep, delimiter, header, names, index_col, usecols, squeeze, prefix, mangle_dupe_cols, dtype, engine, converters, true_values, false_values, skipinitialspace, skiprows, skipfooter, nrows, na_values, keep_default_na, na_filter, verbose, skip_blank_lines, parse_dates, infer_datetime_format, keep_date_col, date_parser, dayfirst, cache_dates, iterator, chunksize, compression, thousands, decimal, lineterminator, quotechar, quoting, doublequote, escapechar, comment, encoding, encoding_errors, dialect, error_bad_lines, warn_bad_lines, on_bad_lines, delim_whitespace, low_memory, memory_map, float_precision, storage_options)\u001b[0m\n\u001b[1;32m    663\u001b[0m kwds_defaults \u001b[38;5;241m=\u001b[39m _refine_defaults_read(\n\u001b[1;32m    664\u001b[0m     dialect,\n\u001b[1;32m    665\u001b[0m     delimiter,\n\u001b[0;32m   (...)\u001b[0m\n\u001b[1;32m    674\u001b[0m     defaults\u001b[38;5;241m=\u001b[39m{\u001b[38;5;124m\"\u001b[39m\u001b[38;5;124mdelimiter\u001b[39m\u001b[38;5;124m\"\u001b[39m: \u001b[38;5;124m\"\u001b[39m\u001b[38;5;124m,\u001b[39m\u001b[38;5;124m\"\u001b[39m},\n\u001b[1;32m    675\u001b[0m )\n\u001b[1;32m    676\u001b[0m kwds\u001b[38;5;241m.\u001b[39mupdate(kwds_defaults)\n\u001b[0;32m--> 678\u001b[0m \u001b[38;5;28;01mreturn\u001b[39;00m \u001b[43m_read\u001b[49m\u001b[43m(\u001b[49m\u001b[43mfilepath_or_buffer\u001b[49m\u001b[43m,\u001b[49m\u001b[43m \u001b[49m\u001b[43mkwds\u001b[49m\u001b[43m)\u001b[49m\n",
      "File \u001b[0;32m~/miniforge3/envs/tf25/lib/python3.8/site-packages/pandas/io/parsers/readers.py:575\u001b[0m, in \u001b[0;36m_read\u001b[0;34m(filepath_or_buffer, kwds)\u001b[0m\n\u001b[1;32m    572\u001b[0m _validate_names(kwds\u001b[38;5;241m.\u001b[39mget(\u001b[38;5;124m\"\u001b[39m\u001b[38;5;124mnames\u001b[39m\u001b[38;5;124m\"\u001b[39m, \u001b[38;5;28;01mNone\u001b[39;00m))\n\u001b[1;32m    574\u001b[0m \u001b[38;5;66;03m# Create the parser.\u001b[39;00m\n\u001b[0;32m--> 575\u001b[0m parser \u001b[38;5;241m=\u001b[39m \u001b[43mTextFileReader\u001b[49m\u001b[43m(\u001b[49m\u001b[43mfilepath_or_buffer\u001b[49m\u001b[43m,\u001b[49m\u001b[43m \u001b[49m\u001b[38;5;241;43m*\u001b[39;49m\u001b[38;5;241;43m*\u001b[39;49m\u001b[43mkwds\u001b[49m\u001b[43m)\u001b[49m\n\u001b[1;32m    577\u001b[0m \u001b[38;5;28;01mif\u001b[39;00m chunksize \u001b[38;5;129;01mor\u001b[39;00m iterator:\n\u001b[1;32m    578\u001b[0m     \u001b[38;5;28;01mreturn\u001b[39;00m parser\n",
      "File \u001b[0;32m~/miniforge3/envs/tf25/lib/python3.8/site-packages/pandas/io/parsers/readers.py:932\u001b[0m, in \u001b[0;36mTextFileReader.__init__\u001b[0;34m(self, f, engine, **kwds)\u001b[0m\n\u001b[1;32m    929\u001b[0m     \u001b[38;5;28mself\u001b[39m\u001b[38;5;241m.\u001b[39moptions[\u001b[38;5;124m\"\u001b[39m\u001b[38;5;124mhas_index_names\u001b[39m\u001b[38;5;124m\"\u001b[39m] \u001b[38;5;241m=\u001b[39m kwds[\u001b[38;5;124m\"\u001b[39m\u001b[38;5;124mhas_index_names\u001b[39m\u001b[38;5;124m\"\u001b[39m]\n\u001b[1;32m    931\u001b[0m \u001b[38;5;28mself\u001b[39m\u001b[38;5;241m.\u001b[39mhandles: IOHandles \u001b[38;5;241m|\u001b[39m \u001b[38;5;28;01mNone\u001b[39;00m \u001b[38;5;241m=\u001b[39m \u001b[38;5;28;01mNone\u001b[39;00m\n\u001b[0;32m--> 932\u001b[0m \u001b[38;5;28mself\u001b[39m\u001b[38;5;241m.\u001b[39m_engine \u001b[38;5;241m=\u001b[39m \u001b[38;5;28;43mself\u001b[39;49m\u001b[38;5;241;43m.\u001b[39;49m\u001b[43m_make_engine\u001b[49m\u001b[43m(\u001b[49m\u001b[43mf\u001b[49m\u001b[43m,\u001b[49m\u001b[43m \u001b[49m\u001b[38;5;28;43mself\u001b[39;49m\u001b[38;5;241;43m.\u001b[39;49m\u001b[43mengine\u001b[49m\u001b[43m)\u001b[49m\n",
      "File \u001b[0;32m~/miniforge3/envs/tf25/lib/python3.8/site-packages/pandas/io/parsers/readers.py:1216\u001b[0m, in \u001b[0;36mTextFileReader._make_engine\u001b[0;34m(self, f, engine)\u001b[0m\n\u001b[1;32m   1212\u001b[0m     mode \u001b[38;5;241m=\u001b[39m \u001b[38;5;124m\"\u001b[39m\u001b[38;5;124mrb\u001b[39m\u001b[38;5;124m\"\u001b[39m\n\u001b[1;32m   1213\u001b[0m \u001b[38;5;66;03m# error: No overload variant of \"get_handle\" matches argument types\u001b[39;00m\n\u001b[1;32m   1214\u001b[0m \u001b[38;5;66;03m# \"Union[str, PathLike[str], ReadCsvBuffer[bytes], ReadCsvBuffer[str]]\"\u001b[39;00m\n\u001b[1;32m   1215\u001b[0m \u001b[38;5;66;03m# , \"str\", \"bool\", \"Any\", \"Any\", \"Any\", \"Any\", \"Any\"\u001b[39;00m\n\u001b[0;32m-> 1216\u001b[0m \u001b[38;5;28mself\u001b[39m\u001b[38;5;241m.\u001b[39mhandles \u001b[38;5;241m=\u001b[39m \u001b[43mget_handle\u001b[49m\u001b[43m(\u001b[49m\u001b[43m  \u001b[49m\u001b[38;5;66;43;03m# type: ignore[call-overload]\u001b[39;49;00m\n\u001b[1;32m   1217\u001b[0m \u001b[43m    \u001b[49m\u001b[43mf\u001b[49m\u001b[43m,\u001b[49m\n\u001b[1;32m   1218\u001b[0m \u001b[43m    \u001b[49m\u001b[43mmode\u001b[49m\u001b[43m,\u001b[49m\n\u001b[1;32m   1219\u001b[0m \u001b[43m    \u001b[49m\u001b[43mencoding\u001b[49m\u001b[38;5;241;43m=\u001b[39;49m\u001b[38;5;28;43mself\u001b[39;49m\u001b[38;5;241;43m.\u001b[39;49m\u001b[43moptions\u001b[49m\u001b[38;5;241;43m.\u001b[39;49m\u001b[43mget\u001b[49m\u001b[43m(\u001b[49m\u001b[38;5;124;43m\"\u001b[39;49m\u001b[38;5;124;43mencoding\u001b[39;49m\u001b[38;5;124;43m\"\u001b[39;49m\u001b[43m,\u001b[49m\u001b[43m \u001b[49m\u001b[38;5;28;43;01mNone\u001b[39;49;00m\u001b[43m)\u001b[49m\u001b[43m,\u001b[49m\n\u001b[1;32m   1220\u001b[0m \u001b[43m    \u001b[49m\u001b[43mcompression\u001b[49m\u001b[38;5;241;43m=\u001b[39;49m\u001b[38;5;28;43mself\u001b[39;49m\u001b[38;5;241;43m.\u001b[39;49m\u001b[43moptions\u001b[49m\u001b[38;5;241;43m.\u001b[39;49m\u001b[43mget\u001b[49m\u001b[43m(\u001b[49m\u001b[38;5;124;43m\"\u001b[39;49m\u001b[38;5;124;43mcompression\u001b[39;49m\u001b[38;5;124;43m\"\u001b[39;49m\u001b[43m,\u001b[49m\u001b[43m \u001b[49m\u001b[38;5;28;43;01mNone\u001b[39;49;00m\u001b[43m)\u001b[49m\u001b[43m,\u001b[49m\n\u001b[1;32m   1221\u001b[0m \u001b[43m    \u001b[49m\u001b[43mmemory_map\u001b[49m\u001b[38;5;241;43m=\u001b[39;49m\u001b[38;5;28;43mself\u001b[39;49m\u001b[38;5;241;43m.\u001b[39;49m\u001b[43moptions\u001b[49m\u001b[38;5;241;43m.\u001b[39;49m\u001b[43mget\u001b[49m\u001b[43m(\u001b[49m\u001b[38;5;124;43m\"\u001b[39;49m\u001b[38;5;124;43mmemory_map\u001b[39;49m\u001b[38;5;124;43m\"\u001b[39;49m\u001b[43m,\u001b[49m\u001b[43m \u001b[49m\u001b[38;5;28;43;01mFalse\u001b[39;49;00m\u001b[43m)\u001b[49m\u001b[43m,\u001b[49m\n\u001b[1;32m   1222\u001b[0m \u001b[43m    \u001b[49m\u001b[43mis_text\u001b[49m\u001b[38;5;241;43m=\u001b[39;49m\u001b[43mis_text\u001b[49m\u001b[43m,\u001b[49m\n\u001b[1;32m   1223\u001b[0m \u001b[43m    \u001b[49m\u001b[43merrors\u001b[49m\u001b[38;5;241;43m=\u001b[39;49m\u001b[38;5;28;43mself\u001b[39;49m\u001b[38;5;241;43m.\u001b[39;49m\u001b[43moptions\u001b[49m\u001b[38;5;241;43m.\u001b[39;49m\u001b[43mget\u001b[49m\u001b[43m(\u001b[49m\u001b[38;5;124;43m\"\u001b[39;49m\u001b[38;5;124;43mencoding_errors\u001b[39;49m\u001b[38;5;124;43m\"\u001b[39;49m\u001b[43m,\u001b[49m\u001b[43m \u001b[49m\u001b[38;5;124;43m\"\u001b[39;49m\u001b[38;5;124;43mstrict\u001b[39;49m\u001b[38;5;124;43m\"\u001b[39;49m\u001b[43m)\u001b[49m\u001b[43m,\u001b[49m\n\u001b[1;32m   1224\u001b[0m \u001b[43m    \u001b[49m\u001b[43mstorage_options\u001b[49m\u001b[38;5;241;43m=\u001b[39;49m\u001b[38;5;28;43mself\u001b[39;49m\u001b[38;5;241;43m.\u001b[39;49m\u001b[43moptions\u001b[49m\u001b[38;5;241;43m.\u001b[39;49m\u001b[43mget\u001b[49m\u001b[43m(\u001b[49m\u001b[38;5;124;43m\"\u001b[39;49m\u001b[38;5;124;43mstorage_options\u001b[39;49m\u001b[38;5;124;43m\"\u001b[39;49m\u001b[43m,\u001b[49m\u001b[43m \u001b[49m\u001b[38;5;28;43;01mNone\u001b[39;49;00m\u001b[43m)\u001b[49m\u001b[43m,\u001b[49m\n\u001b[1;32m   1225\u001b[0m \u001b[43m\u001b[49m\u001b[43m)\u001b[49m\n\u001b[1;32m   1226\u001b[0m \u001b[38;5;28;01massert\u001b[39;00m \u001b[38;5;28mself\u001b[39m\u001b[38;5;241m.\u001b[39mhandles \u001b[38;5;129;01mis\u001b[39;00m \u001b[38;5;129;01mnot\u001b[39;00m \u001b[38;5;28;01mNone\u001b[39;00m\n\u001b[1;32m   1227\u001b[0m f \u001b[38;5;241m=\u001b[39m \u001b[38;5;28mself\u001b[39m\u001b[38;5;241m.\u001b[39mhandles\u001b[38;5;241m.\u001b[39mhandle\n",
      "File \u001b[0;32m~/miniforge3/envs/tf25/lib/python3.8/site-packages/pandas/io/common.py:786\u001b[0m, in \u001b[0;36mget_handle\u001b[0;34m(path_or_buf, mode, encoding, compression, memory_map, is_text, errors, storage_options)\u001b[0m\n\u001b[1;32m    781\u001b[0m \u001b[38;5;28;01melif\u001b[39;00m \u001b[38;5;28misinstance\u001b[39m(handle, \u001b[38;5;28mstr\u001b[39m):\n\u001b[1;32m    782\u001b[0m     \u001b[38;5;66;03m# Check whether the filename is to be opened in binary mode.\u001b[39;00m\n\u001b[1;32m    783\u001b[0m     \u001b[38;5;66;03m# Binary mode does not support 'encoding' and 'newline'.\u001b[39;00m\n\u001b[1;32m    784\u001b[0m     \u001b[38;5;28;01mif\u001b[39;00m ioargs\u001b[38;5;241m.\u001b[39mencoding \u001b[38;5;129;01mand\u001b[39;00m \u001b[38;5;124m\"\u001b[39m\u001b[38;5;124mb\u001b[39m\u001b[38;5;124m\"\u001b[39m \u001b[38;5;129;01mnot\u001b[39;00m \u001b[38;5;129;01min\u001b[39;00m ioargs\u001b[38;5;241m.\u001b[39mmode:\n\u001b[1;32m    785\u001b[0m         \u001b[38;5;66;03m# Encoding\u001b[39;00m\n\u001b[0;32m--> 786\u001b[0m         handle \u001b[38;5;241m=\u001b[39m \u001b[38;5;28;43mopen\u001b[39;49m\u001b[43m(\u001b[49m\n\u001b[1;32m    787\u001b[0m \u001b[43m            \u001b[49m\u001b[43mhandle\u001b[49m\u001b[43m,\u001b[49m\n\u001b[1;32m    788\u001b[0m \u001b[43m            \u001b[49m\u001b[43mioargs\u001b[49m\u001b[38;5;241;43m.\u001b[39;49m\u001b[43mmode\u001b[49m\u001b[43m,\u001b[49m\n\u001b[1;32m    789\u001b[0m \u001b[43m            \u001b[49m\u001b[43mencoding\u001b[49m\u001b[38;5;241;43m=\u001b[39;49m\u001b[43mioargs\u001b[49m\u001b[38;5;241;43m.\u001b[39;49m\u001b[43mencoding\u001b[49m\u001b[43m,\u001b[49m\n\u001b[1;32m    790\u001b[0m \u001b[43m            \u001b[49m\u001b[43merrors\u001b[49m\u001b[38;5;241;43m=\u001b[39;49m\u001b[43merrors\u001b[49m\u001b[43m,\u001b[49m\n\u001b[1;32m    791\u001b[0m \u001b[43m            \u001b[49m\u001b[43mnewline\u001b[49m\u001b[38;5;241;43m=\u001b[39;49m\u001b[38;5;124;43m\"\u001b[39;49m\u001b[38;5;124;43m\"\u001b[39;49m\u001b[43m,\u001b[49m\n\u001b[1;32m    792\u001b[0m \u001b[43m        \u001b[49m\u001b[43m)\u001b[49m\n\u001b[1;32m    793\u001b[0m     \u001b[38;5;28;01melse\u001b[39;00m:\n\u001b[1;32m    794\u001b[0m         \u001b[38;5;66;03m# Binary mode\u001b[39;00m\n\u001b[1;32m    795\u001b[0m         handle \u001b[38;5;241m=\u001b[39m \u001b[38;5;28mopen\u001b[39m(handle, ioargs\u001b[38;5;241m.\u001b[39mmode)\n",
      "\u001b[0;31mFileNotFoundError\u001b[0m: [Errno 2] No such file or directory: '/Users/jwmoon/git/hakcerton/data/student-alcohol-consumption/student-mat.csv'"
     ]
    }
   ],
   "source": [
    "mat_df = pd.read_csv('~/git/hakcerton/data/student-alcohol-consumption/student-mat.csv')\n",
    "pot_df = pd.read_csv('~/git/hakcerton/data/student-alcohol-consumption/student-por.csv')"
   ]
  },
  {
   "cell_type": "markdown",
   "metadata": {},
   "source": [
    "mat_df.head()"
   ]
  },
  {
   "cell_type": "code",
   "execution_count": null,
   "metadata": {},
   "outputs": [],
   "source": [
    "# 복사본으로 카피\n",
    "mat_eda_df = mat_df.copy()\n",
    "pot_eda_df = pot_df.copy()"
   ]
  },
  {
   "cell_type": "code",
   "execution_count": null,
   "metadata": {},
   "outputs": [],
   "source": [
    "mat_eda_df.describe()"
   ]
  },
  {
   "cell_type": "code",
   "execution_count": null,
   "metadata": {},
   "outputs": [],
   "source": [
    "pot_eda_df.describe()"
   ]
  },
  {
   "cell_type": "code",
   "execution_count": null,
   "metadata": {},
   "outputs": [],
   "source": [
    "msno.matrix(df=mat_eda_df.iloc[:, :], color=(0.2, 0.2, 0.9), figsize=(15, 5))"
   ]
  },
  {
   "cell_type": "code",
   "execution_count": null,
   "metadata": {},
   "outputs": [],
   "source": [
    "msno.matrix(df=pot_eda_df.iloc[:, :], color=(0.2, 0.2, 0.9), figsize=(15, 5))"
   ]
  },
  {
   "cell_type": "code",
   "execution_count": null,
   "metadata": {},
   "outputs": [],
   "source": [
    "# 수학은 M 포트투칼 어는 P\n",
    "mat_eda_df['subject'] = 'M'\n",
    "pot_eda_df['subject'] = 'P'"
   ]
  },
  {
   "cell_type": "code",
   "execution_count": null,
   "metadata": {},
   "outputs": [],
   "source": [
    "concat_df = pd.concat([mat_eda_df, pot_eda_df], axis=0)"
   ]
  },
  {
   "cell_type": "code",
   "execution_count": null,
   "metadata": {},
   "outputs": [],
   "source": [
    "# Dalc 컬럼을  Dalc 와 Walc의 평균으로 재조정\n",
    "concat_df['Malc'] = (concat_df['Dalc'] + concat_df['Walc']) / 2\n",
    "concat_df.drop(['Dalc','Walc'], axis=1, inplace=True)"
   ]
  },
  {
   "cell_type": "code",
   "execution_count": null,
   "metadata": {},
   "outputs": [],
   "source": [
    "concat_df['Agrade'] = (concat_df['G1'] + concat_df['G2'] + concat_df['G3']) / 3\n",
    "concat_df.drop(['G1', 'G2', 'G3'], axis=1, inplace=True)"
   ]
  },
  {
   "cell_type": "code",
   "execution_count": null,
   "metadata": {},
   "outputs": [],
   "source": [
    "concat_df.reset_index(inplace=True)\n",
    "concat_df.drop('index', axis=1, inplace=True)"
   ]
  },
  {
   "cell_type": "code",
   "execution_count": null,
   "metadata": {},
   "outputs": [],
   "source": [
    "#concat_df.drop('level_0', axis=1, inplace=True)"
   ]
  },
  {
   "cell_type": "code",
   "execution_count": null,
   "metadata": {},
   "outputs": [],
   "source": [
    "concat_df.to_csv('~/hackerton_work/hakcerton/data/mat_pot.csv', index=False)"
   ]
  },
  {
   "cell_type": "markdown",
   "metadata": {},
   "source": [
    "## 5점척도가 적용되어 있는 컬럼을 점수화  -> 하려고 했지만 유의미한 결과는 나오지 않음"
   ]
  },
  {
   "cell_type": "markdown",
   "metadata": {},
   "source": [
    "- 변환 식\n",
    "\n",
    "  - very low : 1 $$= (1-1)/(5-1) * 10 $$\n",
    "  - low : 2 $$= (2-1)/(5-1) * 10$$\n",
    "  - normal : 3 $$=  (3-1)/(5-1) * 10$$\n",
    "  - good : 4 $$= (4-1)/(5-1) * 10$$\n",
    "  - very good : 4 $$= (5-1)/(5-1) * 10$$"
   ]
  },
  {
   "cell_type": "code",
   "execution_count": null,
   "metadata": {},
   "outputs": [],
   "source": [
    "test = concat_df.copy()"
   ]
  },
  {
   "cell_type": "code",
   "execution_count": null,
   "metadata": {},
   "outputs": [],
   "source": [
    "likert = ['Medu', 'Fedu', 'famrel', 'freetime', 'goout', 'health'] "
   ]
  },
  {
   "cell_type": "code",
   "execution_count": null,
   "metadata": {},
   "outputs": [],
   "source": [
    "test.Medu.unique()"
   ]
  },
  {
   "cell_type": "code",
   "execution_count": null,
   "metadata": {},
   "outputs": [],
   "source": [
    "for col in likert:\n",
    "    score = []\n",
    "    for data in test[col].values:\n",
    "        new_col_name = 'score_' + col\n",
    "        if data == 1:\n",
    "            temp = (data - 1)/(5 - 1) * 10\n",
    "            \n",
    "        elif data == 2:\n",
    "            temp = (data - 1)/(5 - 1) * 10\n",
    "            \n",
    "        elif data == 3:\n",
    "            temp = (data - 1)/(5 - 1) * 10\n",
    "            \n",
    "        elif data == 4:\n",
    "            temp = (data - 1)/(5 - 1) * 10\n",
    "            \n",
    "        elif data == 5:\n",
    "            temp = (data - 1)/(5 - 1) * 10\n",
    "            \n",
    "        score.append(temp)\n",
    "        \n",
    "    print(new_col_name)\n",
    "    test[new_col_name] = score"
   ]
  },
  {
   "cell_type": "markdown",
   "metadata": {},
   "source": [
    "## 각 컬럼별 countplot"
   ]
  },
  {
   "cell_type": "code",
   "execution_count": null,
   "metadata": {},
   "outputs": [],
   "source": [
    "cat_cols = ['school', 'sex', 'address', 'famsize', 'Pstatus', \n",
    "            'Mjob', 'Fjob', 'reason', 'guardian',\n",
    "            'schoolsup', 'famsup', 'activities', 'nursey',\n",
    "            'higher', 'internet', 'romantic', 'subject']"
   ]
  },
  {
   "cell_type": "code",
   "execution_count": null,
   "metadata": {},
   "outputs": [],
   "source": [
    "col_list = concat_df.columns.to_list()\n",
    "num_cols =[item for item in col_list if item not in cat_cols]"
   ]
  },
  {
   "cell_type": "code",
   "execution_count": null,
   "metadata": {},
   "outputs": [],
   "source": [
    "fig = plt.figure(figsize=(16,20))\n",
    "ax = fig.gca() \n",
    "\n",
    "concat_df[num_cols].hist(ax=ax)\n",
    "plt.show() "
   ]
  },
  {
   "cell_type": "markdown",
   "metadata": {},
   "source": [
    "## 상관관계"
   ]
  },
  {
   "cell_type": "code",
   "execution_count": null,
   "metadata": {},
   "outputs": [],
   "source": [
    "from dython.nominal import identify_nominal_columns\n",
    "cat_featrues = identify_nominal_columns(mat_eda_df)\n",
    "cat_featrues"
   ]
  },
  {
   "cell_type": "code",
   "execution_count": null,
   "metadata": {},
   "outputs": [],
   "source": [
    "from dython.nominal import associations"
   ]
  },
  {
   "cell_type": "markdown",
   "metadata": {},
   "source": [
    "### 수학성적데이터 상관관계"
   ]
  },
  {
   "cell_type": "code",
   "execution_count": null,
   "metadata": {},
   "outputs": [],
   "source": [
    "# math 데이터 상관관계\n",
    "complete_correlation = associations(mat_eda_df, filename='./corr_png/mat_correlation.png', figsize=(30, 30))"
   ]
  },
  {
   "cell_type": "code",
   "execution_count": null,
   "metadata": {},
   "outputs": [],
   "source": [
    "# Dalc과 feature 간의 상관관계\n",
    "complete_correlation['corr'].sort_values(by='Dalc', ascending=False).style.background_gradient(cmap='coolwarm', axis=None).set_precision(3)"
   ]
  },
  {
   "cell_type": "code",
   "execution_count": null,
   "metadata": {},
   "outputs": [],
   "source": [
    "# 오름차순으로 정렬\n",
    "corr_df = complete_correlation['corr'].sort_values(by='Dalc', ascending=False)\n",
    "corr_df.drop('Dalc', inplace=True)\n",
    "corr_df.drop('Walc', inplace=True)"
   ]
  },
  {
   "cell_type": "code",
   "execution_count": null,
   "metadata": {},
   "outputs": [],
   "source": [
    "# 전체 상관관계 출력\n",
    "px.bar(corr_df, x='Dalc')"
   ]
  },
  {
   "cell_type": "markdown",
   "metadata": {},
   "source": [
    "### 수힉성적 상관관계 분석 결과\n",
    "- Walc과 가장 높은 상관관계로 나타 났는데 나중에 Dacl과 Walc은 평균을 내어서 살펴볼 예정 -> 술을 마시는 요인을 분석하려고 하는 것이기 떄문에 술을 마시는 행위자체가 높은 것에 초점을 두기로 함(Walc과 Dalc은 다른 feature들과 비슷한 상관계수를 가지고 있음)\n",
    "- 성별과 술을 마시는 횟수가 상관계수가 높게 나옴 -> 성별로 묶어서 어떤 연관이 있는지 확인이 필요\n",
    "- 술마시는 횟수와 성적은 음의 상관관계를 나타냄 -> 후에 살펴볼 필요가 있음\n",
    "- 후에 포르루칼 성적 데이터와 합쳐서 상관관계를 살펴볼 예정임"
   ]
  },
  {
   "cell_type": "markdown",
   "metadata": {},
   "source": [
    "### 포르투칼어 데이터 상관관계"
   ]
  },
  {
   "cell_type": "code",
   "execution_count": null,
   "metadata": {},
   "outputs": [],
   "source": [
    "# 포르투갈 전체 상관관계 히트맵\n",
    "complete_correlation = associations(pot_eda_df, filename='./corr_png/mat_correlation.png', figsize=(30, 30))"
   ]
  },
  {
   "cell_type": "code",
   "execution_count": null,
   "metadata": {},
   "outputs": [],
   "source": [
    "# Dalc와 featurer간의 상관관계\n",
    "complete_correlation['corr'].sort_values(by='Dalc', ascending=False).style.background_gradient(cmap='coolwarm', axis=None).set_precision(2)"
   ]
  },
  {
   "cell_type": "code",
   "execution_count": null,
   "metadata": {},
   "outputs": [],
   "source": [
    "# 상관관계 오름차순 정렬\n",
    "corr_df = complete_correlation['corr'].sort_values(by='Dalc', ascending=False)\n",
    "corr_df.drop('Dalc', inplace=True)\n",
    "corr_df.drop('Walc', inplace=True)"
   ]
  },
  {
   "cell_type": "code",
   "execution_count": null,
   "metadata": {},
   "outputs": [],
   "source": [
    "px.bar(corr_df, x='Dalc')"
   ]
  },
  {
   "cell_type": "markdown",
   "metadata": {},
   "source": [
    "- 포트투칼어 성적 데이터에도 수학성적 데이터와 비슷한 상관관계를 나타내고 있음"
   ]
  },
  {
   "cell_type": "markdown",
   "metadata": {},
   "source": [
    "## 결론: 수학성적 데이터와 포르투칼어 성적 데이터를 합쳐서 살펴보고, Dalc과 Walc은 평균치를 계산하여 상관분석을 할 예정"
   ]
  },
  {
   "cell_type": "markdown",
   "metadata": {},
   "source": [
    "## 수학성적 데이터와 포르투칼 데이터 합친 상관관계"
   ]
  },
  {
   "cell_type": "code",
   "execution_count": null,
   "metadata": {},
   "outputs": [],
   "source": [
    "complete_correlation = associations(concat_df, filename='./corr_png/concat_corr.png', figsize=(30, 30))"
   ]
  },
  {
   "cell_type": "code",
   "execution_count": null,
   "metadata": {},
   "outputs": [],
   "source": [
    "corr_df = complete_correlation['corr'].sort_values(by='Malc', ascending=False)"
   ]
  },
  {
   "cell_type": "code",
   "execution_count": null,
   "metadata": {},
   "outputs": [],
   "source": [
    "corr_df = corr_df.drop('Malc')"
   ]
  },
  {
   "cell_type": "code",
   "execution_count": null,
   "metadata": {},
   "outputs": [],
   "source": [
    "px.bar(corr_df, x='Malc')"
   ]
  },
  {
   "cell_type": "code",
   "execution_count": null,
   "metadata": {},
   "outputs": [],
   "source": [
    "complete_correlation['corr'].style.background_gradient(cmap='coolwarm', axis=None).set_precision(3)"
   ]
  },
  {
   "cell_type": "code",
   "execution_count": null,
   "metadata": {},
   "outputs": [],
   "source": [
    "px.bar(corr_df, x='Malc')"
   ]
  },
  {
   "cell_type": "markdown",
   "metadata": {},
   "source": [
    "- 음의 상관관계도 포함"
   ]
  },
  {
   "cell_type": "code",
   "execution_count": null,
   "metadata": {},
   "outputs": [],
   "source": [
    "# 상관계수를 절대값을 해준 후 데이터 프레임 만들기\n",
    "abs_df = corr_df.Malc.abs().to_frame('corr_score').corr_score.nlargest(31).to_frame('score')\n",
    "abs_df.reset_index(inplace=True)"
   ]
  },
  {
   "cell_type": "code",
   "execution_count": null,
   "metadata": {},
   "outputs": [],
   "source": [
    "choice_col_list_df = abs_df.head(17)"
   ]
  },
  {
   "cell_type": "code",
   "execution_count": null,
   "metadata": {},
   "outputs": [],
   "source": [
    "choice_col_list_df"
   ]
  },
  {
   "cell_type": "markdown",
   "metadata": {},
   "source": [
    "---"
   ]
  },
  {
   "cell_type": "markdown",
   "metadata": {},
   "source": [
    "### 최종 상관계수"
   ]
  },
  {
   "cell_type": "code",
   "execution_count": null,
   "metadata": {},
   "outputs": [],
   "source": [
    "Malc_df = corr_df[['Malc']]\n",
    "Malc_df.reset_index(inplace=True)"
   ]
  },
  {
   "cell_type": "code",
   "execution_count": null,
   "metadata": {},
   "outputs": [],
   "source": [
    "pos_14_corr_df = Malc_df.head(14)\n",
    "neg_4_corr_df = Malc_df.tail(3)"
   ]
  },
  {
   "cell_type": "code",
   "execution_count": null,
   "metadata": {},
   "outputs": [],
   "source": [
    "most_corr_df= pd.concat([pos_14_corr_df, neg_4_corr_df],axis=0)"
   ]
  },
  {
   "cell_type": "code",
   "execution_count": null,
   "metadata": {},
   "outputs": [],
   "source": [
    "most_corr_df.columns = ['features', 'score']\n",
    "most_corr_df.reset_index(inplace=True)\n",
    "most_corr_df.drop('index', inplace=True, axis=1)"
   ]
  },
  {
   "cell_type": "code",
   "execution_count": null,
   "metadata": {},
   "outputs": [],
   "source": [
    "most_corr_df"
   ]
  },
  {
   "cell_type": "markdown",
   "metadata": {},
   "source": [
    "#### 상관계수를 0.8보다 크면 유의미하다고 보고 feature들을 뽑아 내었음"
   ]
  },
  {
   "cell_type": "markdown",
   "metadata": {},
   "source": [
    "## 상관계수의 검정"
   ]
  },
  {
   "cell_type": "code",
   "execution_count": null,
   "metadata": {},
   "outputs": [],
   "source": [
    "import scipy.stats as stats"
   ]
  },
  {
   "cell_type": "code",
   "execution_count": null,
   "metadata": {},
   "outputs": [],
   "source": [
    "concat_df.info()"
   ]
  },
  {
   "cell_type": "code",
   "execution_count": null,
   "metadata": {},
   "outputs": [],
   "source": [
    "cat_cols = ['school', 'sex', 'address', 'famsize', 'Pstatus', \n",
    "            'Mjob', 'Fjob', 'reason', 'guardian', 'paid',\n",
    "            'schoolsup', 'famsup', 'activities', 'nursery',\n",
    "            'higher', 'internet', 'romantic', 'subject']"
   ]
  },
  {
   "cell_type": "code",
   "execution_count": null,
   "metadata": {},
   "outputs": [],
   "source": [
    "col_list = concat_df.columns.to_list()\n",
    "num_cols =[item for item in col_list if item not in cat_cols]"
   ]
  },
  {
   "cell_type": "code",
   "execution_count": null,
   "metadata": {},
   "outputs": [],
   "source": [
    "del num_cols[-2]"
   ]
  },
  {
   "cell_type": "code",
   "execution_count": null,
   "metadata": {},
   "outputs": [],
   "source": [
    "y = concat_df['Malc'].values"
   ]
  },
  {
   "cell_type": "code",
   "execution_count": null,
   "metadata": {},
   "outputs": [],
   "source": [
    "for item in num_cols:\n",
    "    print(item)\n",
    "    x = concat_df[item].values\n",
    "    print('COV : {:.2f}'.format(np.cov(x, y)[0, 1]))\n",
    "    print('Corr: {:.2f}'.format(stats.pearsonr(x, y)[0]))\n",
    "    print('P-value: {:.4f}'.format(stats.pearsonr(x, y)[1]))\n",
    "    print('\\n')"
   ]
  },
  {
   "cell_type": "markdown",
   "metadata": {},
   "source": [
    "---"
   ]
  },
  {
   "cell_type": "markdown",
   "metadata": {},
   "source": [
    "#### 일 소비량과 주말 소비량을 합쳐서 본 히트맵\n",
    "학업에서 성공하는 비결은 술??????\n",
    "- 술 마시면 자신감이 배가 되어 시험을 잘 본다는 것이 학계의 정설!!\n",
    "\n",
    "\n",
    "\n",
    "- 술을 마신다고 해서 성적과 연관이 있을까? -> 결과적으로 술을 마시는 행위 자체가 일탈이라고 볼 수 있을까? -> 성적이 높다고 하여 모범생??????\n",
    "- 부모님의 교육 여부에 따라 술 소비량이 달라질까?\n",
    "- 나이가 많다고 해서 술을 많이 마실까?\n",
    "- 학교별로 나누어서 술 소비량이 성적에 미치는 것을 구별해야 할까?\n",
    "- 그럼 술을 많이 마시게 되는 요인이 무엇이 될까?\n",
    "  - 학교 환경\n",
    "  - 나가서 놀기\n",
    "  - 나이\n",
    "  - 부모님의 교육상태\n",
    "  - 여가시간\n",
    "  - 공부시간???\n",
    "  - 건강\n",
    "  - 결석\n",
    "  - 성적?\n",
    "  - 과목? 근데 수학을 선택했다면 누칼협아님?"
   ]
  },
  {
   "cell_type": "markdown",
   "metadata": {},
   "source": [
    "- 용정 : 'failures', 'freetime', 'Fjob', AGrade\n",
    "- 종호 : 'studytime', 'sex', 'age', 'reason'\n",
    "- 정원 : 'goout', famrel, 'absences', 'health'"
   ]
  },
  {
   "cell_type": "markdown",
   "metadata": {},
   "source": [
    "- Medu, famrel, AGrade, studytime"
   ]
  },
  {
   "cell_type": "markdown",
   "metadata": {},
   "source": [
    "## 범주형 변수 수치형변수로 변환하기"
   ]
  },
  {
   "cell_type": "code",
   "execution_count": null,
   "metadata": {},
   "outputs": [],
   "source": [
    "def init_mapping(data, col_ls):\n",
    "    \"\"\"_summary_\n",
    "\n",
    "    Args:\n",
    "        data (DataFrame): 변환하고자 하는 데이터 프레임\n",
    "        col_name (list): 변환하고 하자는 데이터 프레임의 컬럼명을 리스트로 input\n",
    "    \"\"\"\n",
    "    print('Start Mapping.......')\n",
    "    print('-' * 50)\n",
    "    for i in range(len(col_ls)):\n",
    "        data_ls = data[col_ls[i]].unique()\n",
    "        print('column name :', col_ls[i])\n",
    "        num = []\n",
    "        if len(data_ls) == 2:\n",
    "            num = [i for i in range(len(data_ls))] # 번호 생성\n",
    "        else:\n",
    "            num = [i + 1 for i in range(len(data_ls))]\n",
    "        ls = [(data_ls[i], num[i]) for i in range(len(data_ls))] # 해당 컬럼의 데이터 와 번호 리스트로 생성\n",
    "        print(ls)\n",
    "        mapping = dict(ls) # dict로 만듬\n",
    "        data[col_ls[i]] = data[col_ls[i]].apply(lambda x: mapping[x]) # mapping 적용"
   ]
  },
  {
   "cell_type": "code",
   "execution_count": null,
   "metadata": {},
   "outputs": [],
   "source": [
    "concat_df.info()"
   ]
  },
  {
   "cell_type": "code",
   "execution_count": null,
   "metadata": {},
   "outputs": [],
   "source": [
    "# Fjob은 unique의 순서가 달라 따로 맵핑함\n",
    "mapping = {\n",
    "    'at_home' : 1,\n",
    "    'health' : 2,\n",
    "    'other' : 3, \n",
    "    'services': 4,\n",
    "    'teacher' : 5\n",
    "}\n",
    "concat_df['Fjob'] = concat_df['Fjob'].apply(lambda x: mapping[x])"
   ]
  },
  {
   "cell_type": "code",
   "execution_count": null,
   "metadata": {},
   "outputs": [],
   "source": [
    "mapping = {\n",
    "    'yes' : 1,\n",
    "    'no' :0\n",
    "}\n",
    "concat_df['schoolsup'] = concat_df['schoolsup'].apply(lambda x: mapping[x])\n",
    "concat_df['nursery'] = concat_df['nursery'].apply(lambda x: mapping[x])\n",
    "concat_df['higher'] = concat_df['higher'].apply(lambda x: mapping[x])"
   ]
  },
  {
   "cell_type": "code",
   "execution_count": null,
   "metadata": {},
   "outputs": [],
   "source": [
    "col_ls = [\n",
    "    'school', 'sex', 'address', 'famsize', \n",
    "    'Pstatus', 'Mjob', 'reason', 'guardian', \n",
    "    'famsup', 'paid', 'activities', 'internet', \n",
    "    'romantic', 'subject'\n",
    "    ]"
   ]
  },
  {
   "cell_type": "code",
   "execution_count": null,
   "metadata": {},
   "outputs": [],
   "source": [
    "init_mapping(concat_df, col_ls)"
   ]
  },
  {
   "cell_type": "code",
   "execution_count": null,
   "metadata": {},
   "outputs": [],
   "source": [
    "concat_df.head(10)"
   ]
  },
  {
   "cell_type": "code",
   "execution_count": null,
   "metadata": {},
   "outputs": [],
   "source": [
    "concat_df.to_csv('~/git/hakcerton/data/preprocessing/final_data.csv', index=False)"
   ]
  },
  {
   "cell_type": "markdown",
   "metadata": {},
   "source": [
    "## EDA"
   ]
  },
  {
   "cell_type": "code",
   "execution_count": null,
   "metadata": {},
   "outputs": [],
   "source": [
    "import numpy as np\n",
    "import pandas as pd\n",
    "import matplotlib.pyplot as plt \n",
    "import seaborn as sns\n",
    "import plotly.express as px # plotly라는 시각화라이브러리\n",
    "import plotly.graph_objects as go\n",
    "from plotly.subplots import make_subplots\n",
    "\n",
    "import missingno as msno # 결측치를 확인할 수 있는 라이브러리\n",
    "import os\n",
    "import sys\n",
    "import warnings\n",
    "import chart_studio\n",
    "import chart_studio.plotly as py\n",
    "\n",
    "warnings.filterwarnings('ignore')"
   ]
  },
  {
   "cell_type": "markdown",
   "metadata": {},
   "source": [
    "- 용정 : 'failures', 'freetime', 'Fjob', AGrade"
   ]
  },
  {
   "cell_type": "code",
   "execution_count": null,
   "metadata": {},
   "outputs": [],
   "source": [
    "student_only_num_df = pd.read_csv('~/git/hakcerton/data/preprocessing/final_data.csv')"
   ]
  },
  {
   "cell_type": "code",
   "execution_count": null,
   "metadata": {},
   "outputs": [],
   "source": [
    "student_df = pd.read_csv('~/hackerton_work/hakcerton/data/mat_pot.csv')"
   ]
  },
  {
   "cell_type": "code",
   "execution_count": null,
   "metadata": {},
   "outputs": [],
   "source": [
    "train_unique = []\n",
    "data_col = ['school', 'sex', 'age', 'address', 'famsize', 'Pstatus', 'Medu', 'Fedu',\n",
    "       'Mjob', 'Fjob', 'reason', 'guardian', 'traveltime', 'studytime',\n",
    "       'failures', 'schoolsup', 'famsup', 'paid', 'activities', 'nursery',\n",
    "       'higher', 'internet', 'romantic', 'famrel', 'freetime', 'goout',\n",
    "       'health', 'absences', 'subject', 'Malc', 'Agrade']\n",
    "\n",
    "for i in data_col:\n",
    "    train_unique.append(len(student_df[i].unique()))\n",
    "    \n",
    "unique_train = pd.DataFrame()\n",
    "unique_train['columns'] = data_col\n",
    "unique_train['unique_value'] = train_unique"
   ]
  },
  {
   "cell_type": "code",
   "execution_count": null,
   "metadata": {},
   "outputs": [],
   "source": [
    "unique_train = unique_train.sort_values(by='unique_value', ascending=False)"
   ]
  },
  {
   "cell_type": "code",
   "execution_count": null,
   "metadata": {},
   "outputs": [],
   "source": [
    "upper_data = unique_train[(unique_train['unique_value'] > 30)].sort_values(by='unique_value', ascending=False)\n",
    "lower_data = unique_train[(unique_train['unique_value'] < 10)].sort_values(by='unique_value', ascending=False)"
   ]
  },
  {
   "cell_type": "code",
   "execution_count": null,
   "metadata": {},
   "outputs": [],
   "source": [
    "fig = make_subplots(\n",
    "    rows=1, cols=2,\n",
    "    start_cell='bottom-left',\n",
    "    subplot_titles=['Unique Value', 'Unique Value']\n",
    ")\n",
    "\n",
    "fig.add_trace(go.Bar(x=upper_data['columns'], y=upper_data['unique_value'], name='upper 30'), row=1, col=1)\n",
    "fig.add_trace(go.Bar(x=lower_data['columns'], y=lower_data['unique_value'],name='under 10'), row=1, col=2)\n",
    "fig.show()"
   ]
  },
  {
   "cell_type": "code",
   "execution_count": null,
   "metadata": {},
   "outputs": [],
   "source": [
    "fig = px.bar(unique_train, x='columns', y='unique_value', text='unique_value', height=650, color='unique_value')\n",
    "\n",
    "\n",
    "fig.update_layout(\n",
    "    title=dict(\n",
    "        text = '각 컬럼별 고유값',\n",
    "        x=0.5,\n",
    "        y=0.97,\n",
    "        font=dict(\n",
    "            size=25,\n",
    "            color='#000000'\n",
    "        )\n",
    "    ),\n",
    "    xaxis_title = dict(\n",
    "        text='컬럼명',\n",
    "    ),\n",
    "    yaxis_title ='컬럼별 고유값 개수',\n",
    "    font=dict(\n",
    "        color='#000000',\n",
    "        size=13\n",
    "    ),\n",
    "    showlegend=False,\n",
    "    margin=dict(l=10, r=10, b=10)\n",
    ")\n",
    "fig.update_traces(\n",
    "    textfont_size=14,\n",
    "    textposition='outside'\n",
    ")\n",
    "\n",
    "fig.show()"
   ]
  },
  {
   "cell_type": "code",
   "execution_count": null,
   "metadata": {},
   "outputs": [],
   "source": [
    "px.histogram(student_df, x='Malc')"
   ]
  },
  {
   "cell_type": "markdown",
   "metadata": {},
   "source": [
    "## Failure & Malc\n",
    "- 여기에서는 과거에 F를 맞았던 학생들이 술을 더 마실까? 에대한 분석\n",
    "- 다시 말하면 과거의 행동이 현재에도 영향을 미치는지에 대한 분석이라고 볼 수 있다.\n",
    "- column 설명\n",
    "  - number of past class failures (numeric: n if 1<=n<3, else 4)"
   ]
  },
  {
   "cell_type": "code",
   "execution_count": null,
   "metadata": {},
   "outputs": [],
   "source": [
    "fig = px.pie(student_df, 'failures')\n",
    "\n",
    "fig.update_layout(\n",
    "    title=dict(\n",
    "        text = '학생의 과거 Fail과목 수에 대한 비율',\n",
    "        x=0.5,\n",
    "        y=0.97,\n",
    "        font=dict(\n",
    "            size=25,\n",
    "            color='#000000'\n",
    "        )\n",
    "    ),\n",
    "    showlegend=True,\n",
    "\n",
    ")\n",
    "fig.update_traces(\n",
    "    textfont_size=12,\n",
    "    textposition='inside'\n",
    ")\n",
    "\n",
    "fig.show()"
   ]
  },
  {
   "cell_type": "code",
   "execution_count": null,
   "metadata": {},
   "outputs": [],
   "source": [
    "px.box(student_df, x='failures', y='Malc')"
   ]
  },
  {
   "cell_type": "code",
   "execution_count": null,
   "metadata": {},
   "outputs": [],
   "source": [
    "student_df.columns"
   ]
  },
  {
   "cell_type": "code",
   "execution_count": null,
   "metadata": {},
   "outputs": [],
   "source": [
    "data = student_df.groupby('failures').mean()"
   ]
  },
  {
   "cell_type": "code",
   "execution_count": null,
   "metadata": {},
   "outputs": [],
   "source": [
    "data.columns"
   ]
  },
  {
   "cell_type": "markdown",
   "metadata": {},
   "source": [
    "- 용정 : 'failures', 'freetime', 'Fjob', AGrade"
   ]
  },
  {
   "cell_type": "code",
   "execution_count": null,
   "metadata": {},
   "outputs": [],
   "source": [
    "fig = go.Figure()\n",
    "\n",
    "fig.add_trace(go.Scatter( \n",
    "                        x=data.Malc, y=data.index, mode='lines+markers+text', \n",
    "                        line={\n",
    "                            'width': 3,\n",
    "                            'dash':'solid'},\n",
    "                        text=['0번', '1번', '2번', '3번'],\n",
    "                        textposition='top center',\n",
    "                        showlegend=True,\n",
    "                        name='음주량',\n",
    "                        )\n",
    "        )\n",
    "\n",
    "fig.update_layout(\n",
    "    height=550,\n",
    "    title=dict(\n",
    "        text = '과거 Fail 개수에 따른 음주량 변화',\n",
    "        x=0.5,\n",
    "        y=0.97,\n",
    "        font=dict(\n",
    "            size=25,\n",
    "            color='#000000'\n",
    "        )\n",
    "    ),\n",
    "    xaxis_title = dict(\n",
    "        text='평균 음주량',\n",
    "    ),\n",
    "    yaxis_title ='과거 Fail한 개수',\n",
    "    font=dict(\n",
    "        color='#000000',\n",
    "        size=13\n",
    "    ),\n",
    "    showlegend=True,\n",
    "\n",
    ")"
   ]
  },
  {
   "cell_type": "markdown",
   "metadata": {},
   "source": [
    "features\tscore \n",
    "0\tMalc\t1.00\n",
    "1\tgoout\t0.37\n",
    "2\tsex\t0.32\n",
    "3\tabsences\t0.15\n",
    "4\tfreetime\t0.15\n",
    "5\tFjob\t0.13\n",
    "6\treason\t0.13\n",
    "7\tage\t0.12\n",
    "8\tfailures\t0.12\n",
    "9\thigher\t0.11\n",
    "10\ttraveltime\t0.10\n",
    "11\thealth\t0.10\n",
    "12\tfamsize\t0.09\n",
    "13\tnursery\t0.09\n",
    "14\tfamrel\t-0.10\n",
    "15\tAgrade\t-0.15\n",
    "16\tstudytime\t-0.22"
   ]
  },
  {
   "cell_type": "markdown",
   "metadata": {},
   "source": [
    "- 과거 fail한 과목 개수와 음주량에 관해 어느정도 상관관계를 가지는 것으로 보인다.\n",
    "- "
   ]
  },
  {
   "cell_type": "markdown",
   "metadata": {},
   "source": [
    "## freetime & Malc\n",
    "\n",
    "- freetime : free time after school (numeric: from 1 - very low to 5 - very high)"
   ]
  },
  {
   "cell_type": "code",
   "execution_count": null,
   "metadata": {},
   "outputs": [],
   "source": [
    "fig = px.pie(student_df, 'freetime')\n",
    "\n",
    "fig.update_layout(\n",
    "    title=dict(\n",
    "        text = '학생의 자유시간에 대한 비율',\n",
    "        x=0.5,\n",
    "        y=0.97,\n",
    "        font=dict(\n",
    "            size=25,\n",
    "            color='#000000'\n",
    "        )\n",
    "    ),\n",
    "    showlegend=True,\n",
    "\n",
    ")\n",
    "fig.update_traces(\n",
    "    textfont_size=12,\n",
    "    textposition='inside'\n",
    ")\n",
    "\n",
    "fig.show()"
   ]
  },
  {
   "cell_type": "code",
   "execution_count": null,
   "metadata": {},
   "outputs": [],
   "source": [
    "px.box(student_df, x='freetime', y='Malc')"
   ]
  },
  {
   "cell_type": "code",
   "execution_count": null,
   "metadata": {},
   "outputs": [],
   "source": [
    "data = student_df.groupby('freetime').mean()"
   ]
  },
  {
   "cell_type": "code",
   "execution_count": null,
   "metadata": {},
   "outputs": [],
   "source": [
    "data"
   ]
  },
  {
   "cell_type": "code",
   "execution_count": null,
   "metadata": {},
   "outputs": [],
   "source": [
    "fig = go.Figure()\n",
    "\n",
    "fig.add_trace(go.Scatter( \n",
    "                        x=data.index, y=data.Malc, mode='lines+markers+text', \n",
    "                        line={\n",
    "                            'width': 3,\n",
    "                            'dash':'solid'},\n",
    "                        text=['매우 적음', '적음', '보통', '조금 많음', '매우 많음'],\n",
    "                        textposition='top center',\n",
    "                        showlegend=True,\n",
    "                        name='음주량',\n",
    "                        )\n",
    "        )\n",
    "\n",
    "fig.update_layout(\n",
    "    height=550,\n",
    "    title=dict(\n",
    "        text = 'Freetime 별 평균 음주량 변화',\n",
    "        x=0.5,\n",
    "        y=0.97,\n",
    "        font=dict(\n",
    "            size=25,\n",
    "            color='#000000'\n",
    "        )\n",
    "    ),\n",
    "    xaxis_title = dict(\n",
    "        text='평균 음주량',\n",
    "    ),\n",
    "    yaxis_title ='Freetime',\n",
    "    font=dict(\n",
    "        color='#000000',\n",
    "        size=13\n",
    "    ),\n",
    "    showlegend=True,\n",
    "\n",
    ")"
   ]
  },
  {
   "cell_type": "markdown",
   "metadata": {},
   "source": [
    "## Fjob & Malc"
   ]
  },
  {
   "cell_type": "code",
   "execution_count": null,
   "metadata": {},
   "outputs": [],
   "source": [
    "fig = px.pie(student_df, 'Fjob')\n",
    "\n",
    "fig.update_layout(\n",
    "    title=dict(\n",
    "        text = '학생들의 학부모 직업 비율',\n",
    "        x=0.5,\n",
    "        y=0.97,\n",
    "        font=dict(\n",
    "            size=25,\n",
    "            color='#000000'\n",
    "        )\n",
    "    ),\n",
    "    showlegend=True,\n",
    "\n",
    ")\n",
    "fig.update_traces(\n",
    "    textfont_size=12,\n",
    "    textposition='inside'\n",
    ")\n",
    "\n",
    "fig.show()"
   ]
  },
  {
   "cell_type": "code",
   "execution_count": null,
   "metadata": {},
   "outputs": [],
   "source": [
    "data = student_df.groupby('Fjob').mean()"
   ]
  },
  {
   "cell_type": "code",
   "execution_count": null,
   "metadata": {},
   "outputs": [],
   "source": [
    "data"
   ]
  },
  {
   "cell_type": "code",
   "execution_count": null,
   "metadata": {},
   "outputs": [],
   "source": [
    "fig = go.Figure()\n",
    "\n",
    "fig.add_trace(go.Scatter( \n",
    "                        x=data.index, y=data.Malc, mode='lines+markers+text', \n",
    "                        line={\n",
    "                           'width': 3,\n",
    "                           'dash':'solid'},\n",
    "                        #textposition='inside',\n",
    "                        showlegend=True,\n",
    "                        name='아버지의 직업',\n",
    "                        )\n",
    "        )\n",
    "\n",
    "fig.update_layout(\n",
    "    height=550,\n",
    "    title=dict(\n",
    "        text = '아버지의 직업 별 평균 음주량 변화',\n",
    "        x=0.5,\n",
    "        y=0.97,\n",
    "        font=dict(\n",
    "            size=25,\n",
    "            color='#000000'\n",
    "        )\n",
    "    ),\n",
    "    xaxis_title = dict(\n",
    "        text='\b아버지의 직업',\n",
    "    ),\n",
    "    yaxis_title ='평균 음주량',\n",
    "    font=dict(\n",
    "        color='#000000',\n",
    "        size=13\n",
    "    ),\n",
    "    showlegend=True,\n",
    "\n",
    ")"
   ]
  },
  {
   "cell_type": "code",
   "execution_count": null,
   "metadata": {},
   "outputs": [],
   "source": [
    "px.bar(data, x='Malc')"
   ]
  },
  {
   "cell_type": "markdown",
   "metadata": {},
   "source": [
    "## AGrade & Malc"
   ]
  },
  {
   "cell_type": "code",
   "execution_count": null,
   "metadata": {},
   "outputs": [],
   "source": [
    "fig = px.histogram(student_df, 'Agrade')\n",
    "\n",
    "fig.update_layout(\n",
    "    title=dict(\n",
    "        text = '학생의 수학과 포르투칼어 성적 평균 분포',\n",
    "        x=0.5,\n",
    "        y=0.97,\n",
    "        font=dict(\n",
    "            size=25,\n",
    "            color='#000000'\n",
    "        )\n",
    "    ),\n",
    "    showlegend=True,\n",
    "\n",
    ")\n",
    "fig.update_traces(\n",
    "    textfont_size=12,\n",
    "    textposition='inside'\n",
    ")\n",
    "fig.update_layout(\n",
    "    height=550,\n",
    "    title=dict(\n",
    "        text = '학생의 수학과 포르투칼어 성적 평균',\n",
    "        x=0.5,\n",
    "        y=0.97,\n",
    "        font=dict(\n",
    "            size=25,\n",
    "            color='#000000'\n",
    "        )\n",
    "    ),\n",
    "    xaxis_title = dict(\n",
    "        text='평균 성적',\n",
    "    ))\n",
    "\n",
    "fig.show()"
   ]
  },
  {
   "cell_type": "code",
   "execution_count": null,
   "metadata": {},
   "outputs": [],
   "source": [
    "data = student_df.groupby('Agrade').mean()"
   ]
  },
  {
   "cell_type": "code",
   "execution_count": null,
   "metadata": {},
   "outputs": [],
   "source": [
    "fig = go.Figure()\n",
    "\n",
    "fig.add_trace(go.Scatter( \n",
    "                        x=data.index, y=data.Malc, #mode='lines+markers+text', \n",
    "                        line={\n",
    "                           'width': 3,\n",
    "                           'dash':'solid'},\n",
    "                        text=['매우 적음', '적음', '보통', '조금 많음', '매우 많음'],\n",
    "                        #textposition='inside',\n",
    "                        showlegend=True,\n",
    "                        name='음주량',\n",
    "                        )\n",
    "        )\n",
    "\n",
    "fig.update_layout(\n",
    "    height=550,\n",
    "    title=dict(\n",
    "        text = '성적 평균별 음주량 변화',\n",
    "        x=0.5,\n",
    "        y=0.97,\n",
    "        font=dict(\n",
    "            size=25,\n",
    "            color='#000000'\n",
    "        )\n",
    "    ),\n",
    "    xaxis_title = dict(\n",
    "        text='평균 성적',\n",
    "    ),\n",
    "    yaxis_title ='평균 음주량',\n",
    "    font=dict(\n",
    "        color='#000000',\n",
    "        size=13\n",
    "    ),\n",
    "    showlegend=True,\n",
    "\n",
    ")"
   ]
  },
  {
   "cell_type": "code",
   "execution_count": null,
   "metadata": {},
   "outputs": [],
   "source": [
    "fig = px.box(student_df, x='Agrade', y='Malc')\n",
    "\n",
    "fig.update_layout(\n",
    "    height=550,\n",
    "    title=dict(\n",
    "        text = '성적 평균별 음주량에 대한 Box plot',\n",
    "        x=0.5,\n",
    "        y=0.97,\n",
    "        font=dict(\n",
    "            size=25,\n",
    "            color='#000000'\n",
    "        )\n",
    "    ),\n",
    "    xaxis_title = dict(\n",
    "        text='평균 성적',\n",
    "    ),\n",
    "    yaxis_title ='평균 음주량',\n",
    "    font=dict(\n",
    "        color='#000000',\n",
    "        size=13\n",
    "    ),\n",
    "    showlegend=True,)"
   ]
  },
  {
   "cell_type": "code",
   "execution_count": null,
   "metadata": {},
   "outputs": [],
   "source": []
  },
  {
   "cell_type": "code",
   "execution_count": null,
   "metadata": {},
   "outputs": [],
   "source": []
  },
  {
   "cell_type": "code",
   "execution_count": null,
   "metadata": {},
   "outputs": [],
   "source": []
  },
  {
   "cell_type": "markdown",
   "metadata": {},
   "source": [
    "- 정원"
   ]
  },
  {
   "cell_type": "markdown",
   "metadata": {},
   "source": [
    "### 상관관계 vs. 인과관계\n",
    "\n",
    "상관관계(correlation)를 인과관계(causation)와 또는 인과관계를 예측하는 것과 혼동하지 않는 것이 중요하다. 변수 x는 변수 y를 예측할 때 유용할 수 있습니다만, 이것이  x가 y의 원인이 된다는 의미는 아니다. x가 y의 원인이 될 수 있지만, y가 x의 원인이 될 수도 있고, 또는 둘 사이의 관계는 단순한 인과관계보다 더 복잡할 수 있다.\n",
    "\n",
    "예를 들면, 매달 해변 리조트에서 물에 빠져 죽은 횟수를 해당 기간에 팔린 아이스크림 수와 함께 모델링 할 수 있는데, 이 모델이 그럴듯한 예측값을 줄 수 있다. 그 이유는 아이스크림 때문에 물에 빠져 죽기 때문이 아니라, 더운 날에 사람들이 아이스크림을 더 많이 먹고 더운 날에 수영을 할 가능성도 높기 때문이다. 따라서 두 변수(아이스크림 판매량과 물에 빠져 죽는 것)가 상관관계가 있지만, 하나가 다른 하나의 원인인 것은 아니다. 두 가지 변수 모두 제 3의 변수인 기온이 원인이다. 이것이 바로 생략된 변수가 반응변수(response variable)와 적어도 하나 이상의 예측 변수(predictor variable) 모두에 영향을 미치는 “혼선(confounding)”의 예이다.\n",
    "\n",
    "두 변수 사이에 상관관계가 없을 때나 모델과는 반대로 인과관계(causality)가 성립할 때도, 또는 혼선(confounding)이 있더라도, 상관관계(correlations)가 예측 작업에서는 유용하다는 것을 이해하는 것이 중요합니다.\n",
    "\n",
    "하지만, 인과관계를 결정할 수 있으면, 종종 더 나은 모델이 가능합니다. 이 예제에서, 아이스크림 판매량과 물에 빠져 죽는 것은 온도와 해변 리조트에 방문하는 사람 숫자에 영향을 받을 것입니다. 다시 한번 강조하지만, 높은 기온 때문에 실제로 사람이 죽는 것은 아니지만, 이러한 변수는 사람이 왜 수영을 하는지와 더욱 직접적으로 관련이 있다. 따라서 물에 빠져 죽는 것에 대한 더 나은 모델에는 아마도 온도, 방문자 수가 들어가고 아이스크림 판매량이 빠질 것이다.\n",
    "\n",
    "[1] https://otexts.com/fppkr/causality.html"
   ]
  },
  {
   "cell_type": "markdown",
   "metadata": {},
   "source": [
    "### Q) 알콜섭취량(Malc)와 평균성적(Agrade)은 상관관계가 있는 것인가? 아니면 인과관계가 있는 것인가?\n",
    "\n",
    "위에서 설명한 것처럼 School Alcohol Consumption의 변수를 놓고 상관관계와 인과관계에 대해 논의해 볼 수 있다. 알콜섭취량(Malc)과 평균성적(Agrade)을 제외한 나머지 변수(the rest)를 독립변수로 놓고, 알콜섭취량(Malc)와 평균성적(Agrade)을 종속변수로 놓자.\n",
    "\n",
    "'goout', 'sex', 'absences', 'freetime', 'studytime' 등이 종속변수와 상관관계가 높은 변수들인데 이 변수들이 알콜섭취량(Malc)에 영향을 미치고 또 평균성적(Agrade)에 영향을 미친다고 해서, 알콜섭취량(Malc)과 평균성적(Agrade)이 하나가 다른 하나의 원인인 인과관계에 있는 것은 아니다. 두 변수는 상관관계가 있는 것이고 나머지 변수들이 이 두 변수의 원인인 것이다.\n",
    "\n",
    "\n",
    "* 상관관계 : 알콜섭취량(Malc)과 평균성적(Agrade)\n",
    "\n",
    "  - The rest는 알콜섭취량(Malc)에 영향을 미친다. \n",
    "\n",
    "  - The rest는 평균성적(Agrade)에 영향을 미친다.\n",
    "\n",
    "  - → 알콜섭취량(Malc)와 평균성적(Agrade)는 상관관계가 있다.\n",
    "\n",
    "\n",
    "* cf) 인과관계 : 알콜섭취량(Malc) → 평균성적(Agrade)\n",
    "\n",
    "  - The rest는 알콜섭취량(Malc)에 영향을 미친다. \n",
    "  \n",
    "  - 알콜섭취량(Malc)은 평균성적(Agrade)에 영향을 미친다.\n",
    "\n",
    "  - → 알콜섭취량(Malc)과 평균성적(Agrade)는 인과관계가 있다.\n",
    "\n"
   ]
  },
  {
   "cell_type": "code",
   "execution_count": null,
   "metadata": {},
   "outputs": [],
   "source": [
    "plt.figure(figsize = (60, 30))\n",
    "\n",
    "plt.subplot(221)\n",
    "plt.bar(concat_df['goout']+0.0, concat_df['Malc'], label='Malc', color='b', width=0.5)\n",
    "plt.bar(concat_df['goout']+0.5, concat_df['Agrade'], label='Agrade', color='grey', width=0.5)\n",
    "plt.title('going out이 alcohol consumption과 grade에 미치는 영향', size=40)\n",
    "plt.legend(fontsize=40, loc='upper left')\n",
    "plt.xticks(fontsize=30)\n",
    "plt.yticks(fontsize=30)\n",
    "plt.xlabel('going out', fontsize=40)\n",
    "\n",
    "plt.subplot(222)\n",
    "plt.bar(concat_df['sex']+0.0, concat_df['Malc'], label='Malc', color='b', width=0.5)\n",
    "plt.bar(concat_df['sex']+0.5, concat_df['Agrade'], label='Agrade', color='grey', width=0.5)\n",
    "plt.title('성별이 alcohol consumption과 grade에 미치는 영향', size=40)\n",
    "plt.legend(fontsize=40, loc='upper left')\n",
    "plt.xticks(fontsize=30)\n",
    "plt.yticks(fontsize=30)\n",
    "plt.xlabel('sex', fontsize=40)\n",
    "\n",
    "plt.subplot(223)\n",
    "plt.bar(concat_df['absences']+0.0, concat_df['Malc'], label='Malc', color='b', width=0.5)\n",
    "plt.bar(concat_df['absences']+0.5, concat_df['Agrade'], label='Agrade', color='grey', width=0.5)\n",
    "plt.title('absences가 alcohol consumption과 grade에 미치는 영향', size=40)\n",
    "plt.legend(fontsize=40, loc='upper left')\n",
    "plt.xticks(fontsize=30)\n",
    "plt.yticks(fontsize=30)\n",
    "plt.xlabel('absences', fontsize=40)\n",
    "\n",
    "plt.subplot(224)\n",
    "plt.bar(concat_df['freetime']+0.0, concat_df['Malc'], label='Malc', color='b', width=0.5)\n",
    "plt.bar(concat_df['freetime']+0.5, concat_df['Agrade'], label='Agrade', color='grey', width=0.5)\n",
    "plt.title('free time이 alcohol consumption과 grade에 미치는 영향', size=40)\n",
    "plt.legend(fontsize=40, loc='upper left')\n",
    "plt.xticks(fontsize=30)\n",
    "plt.yticks(fontsize=30)\n",
    "plt.xlabel('free time', fontsize=40)\n",
    "\n",
    "plt.show()"
   ]
  },
  {
   "cell_type": "code",
   "execution_count": null,
   "metadata": {},
   "outputs": [],
   "source": [
    "# ==> 용정님 이거 혹시 코드로 중요 상관관계 지표 다 돌릴 수 있나요?"
   ]
  },
  {
   "cell_type": "code",
   "execution_count": null,
   "metadata": {},
   "outputs": [],
   "source": [
    "# 이것도 상관관계 분석 결론 짓는데 (종속변수:알콜소비, 평균성적) 붙이면 좋을 것 같아요"
   ]
  },
  {
   "cell_type": "code",
   "execution_count": null,
   "metadata": {},
   "outputs": [],
   "source": [
    "print(concat_df.Malc.unique())                # 1 ~ 4.5\n",
    "print(concat_df.Agrade.astype(int).unique())  # 1 ~ 19"
   ]
  },
  {
   "cell_type": "code",
   "execution_count": null,
   "metadata": {},
   "outputs": [],
   "source": [
    "# Malc 지표가 1~4.5이고 Agrade가 1~19여서 scale 맞추는게 가능할까요? (시간이 근데 이제 1시간 남았네요 ㅎ)"
   ]
  },
  {
   "cell_type": "code",
   "execution_count": null,
   "metadata": {},
   "outputs": [],
   "source": []
  },
  {
   "cell_type": "code",
   "execution_count": null,
   "metadata": {},
   "outputs": [],
   "source": [
    "#### * Malc & gouout (0.37) \n",
    "\n",
    "Malc - alcohol consumption per week (numeric: from 1 - very low to 5 - very high)\n",
    "\n",
    "goout - going out with friends (numeric: from 1 - very low to 5 - very high)\n",
    "\n",
    "Fjob - father's job (nominal: 'teacher', 'health' care related, civil 'services' (e.g. administrative or police), 'at_home' or 'other')"
   ]
  },
  {
   "cell_type": "code",
   "execution_count": null,
   "metadata": {},
   "outputs": [],
   "source": [
    "#### * Malc & gouout (0.37) \n",
    "\n",
    "Malc - alcohol consumption per week (numeric: from 1 - very low to 5 - very high)\n",
    "\n",
    "goout - going out with friends (numeric: from 1 - very low to 5 - very high)\n",
    "\n",
    "Fjob - father's job (nominal: 'teacher', 'health' care related, civil 'services' (e.g. administrative or police), 'at_home' or 'other')"
   ]
  },
  {
   "cell_type": "code",
   "execution_count": null,
   "metadata": {},
   "outputs": [],
   "source": [
    "plt.figure(figsize = (60, 30))\n",
    "\n",
    "plt.subplot(221)\n",
    "sns.lineplot(data=concat_df, x='goout', y='Malc')\n",
    "plt.title('going out & alcohol consumption', size=40)\n",
    "plt.xticks(fontsize = 30)\n",
    "plt.yticks(fontsize = 30)\n",
    "plt.xlabel('going out', fontsize = 30)\n",
    "plt.ylabel('alcohol consumption', fontsize = 30)\n",
    "\n",
    "plt.subplot(222)\n",
    "sns.countplot(data=concat_df, x='goout', hue='Malc')\n",
    "plt.legend(loc='upper right', fontsize=30, title='Malc', title_fontsize = 30)\n",
    "plt.xticks(fontsize = 30)\n",
    "plt.yticks(fontsize = 30)\n",
    "plt.xlabel('going out', fontsize = 30)\n",
    "plt.ylabel('Count', rotation=0, fontsize = 30)\n",
    "\n",
    "plt.subplot(212)\n",
    "sns.distplot(concat_df['goout'], label='goout')\n",
    "sns.distplot(concat_df['Malc'], label='Malc')\n",
    "plt.title('going out & alcohol consumption', size=40)\n",
    "plt.legend(loc='upper left', fontsize=30)\n",
    "plt.xticks(fontsize = 30)\n",
    "plt.yticks(fontsize = 30)\n",
    "plt.xlabel('going out & alcohol consumption', fontsize = 30)\n",
    "plt.ylabel('Count', rotation=0, fontsize = 30)\n",
    "\n",
    "plt.show()"
   ]
  },
  {
   "cell_type": "markdown",
   "metadata": {},
   "source": [
    "going out(goout)과 alcohol consumption(Malc) 간에는 양의 상관관계 (상관계수 0.37)가 있다. \n",
    "\n",
    "1. 첫 번째 그래프는 단순히 주당 외출 지표와 주당 음주 지표의 비례 관계를 보여주고 있다.\n",
    "\n",
    "\n",
    "2. 두 번째 그래프는 주당 외출 정도 마다 술 마시는 정도를 1~5로 나타낸 것으로 각 정도치에서 주당 음주 지표 1이 가장 많다.\n",
    "\n",
    "\n",
    "3. 세 번째 그래프를 살펴보면 두 변수의 관련성을 좀 더 자세히 살펴볼 수 있다. going out과 alcohol consumption의 횟수를 각각 displot으로 비교하고 있다. \n",
    "going out은 정규분포의 형태를 보이고 있으며, 주당 음주 지표는 1번을 기준으로 점차 적어지고 있다. \n",
    "오히려 주당 지표 1 외출시의 알콜 소비량이 제일 많으며 외출 지표가 커질수록 알콜 소비량이 점차 적어지고 있다.\n",
    "이는 주당 지표 1 외출시 친구와 술 약속을 잡을 확률이 가장 크고, 외출 지표가 커질수록 친구와 술 약속이 아닌 다른 약속을 잡을 확률이 커짐을 의미한다. "
   ]
  },
  {
   "cell_type": "markdown",
   "metadata": {},
   "source": [
    "#### * Malc & famrel  (-0.1)\n",
    "\n",
    "Malc - alcohol consumption per week (numeric: from 1 - very low to 5 - very high)\n",
    "\n",
    "famrel - quality of family relationships (numeric: from 1 - very bad to 5 - excellent)"
   ]
  },
  {
   "cell_type": "code",
   "execution_count": null,
   "metadata": {},
   "outputs": [],
   "source": [
    "plt.figure(figsize = (60, 30))\n",
    "\n",
    "plt.subplot(211)\n",
    "sns.lineplot(data=concat_df, x='famrel', y='Malc')\n",
    "plt.title('family relation & alcohol consumption', size=40)\n",
    "plt.xticks(fontsize = 30)\n",
    "plt.yticks(fontsize = 30)\n",
    "plt.xlabel('family relation', fontsize = 30)\n",
    "plt.ylabel('alcohol consumption', fontsize = 30)\n",
    "\n",
    "plt.subplot(212)\n",
    "sns.distplot(concat_df['famrel'], label='famrel')\n",
    "sns.distplot(concat_df['Malc'], label='Malc')\n",
    "plt.title('family relation & alcohol consumption', size=40)\n",
    "plt.legend(loc='upper left', fontsize=30)\n",
    "plt.xticks(fontsize = 30)\n",
    "plt.yticks(fontsize = 30)\n",
    "plt.xlabel('family relation & alcohol consumption', fontsize = 30)\n",
    "plt.ylabel('Count', rotation=0, fontsize = 30)\n",
    "\n",
    "plt.show()"
   ]
  },
  {
   "cell_type": "markdown",
   "metadata": {},
   "source": [
    "alcohol consumption(Malc)과  quality of family relationships(famrel)간에는 음의 상관관계 (상관계수 -0.1)가 있다.\n",
    "\n",
    "1. 첫 번째 그래프는 가족들 간의 관계와 주당 음주 지표의 음의 상관관계를 보여주고 있다.\n",
    "\n",
    "2. 두 번째 그래프 역시 가족들 간의 관계가 좋아질수록 대체적으로 음주 소비가 줄어드는 영향을 보여주고 있다."
   ]
  },
  {
   "cell_type": "code",
   "execution_count": null,
   "metadata": {},
   "outputs": [],
   "source": []
  }
 ],
 "metadata": {
  "kernelspec": {
   "display_name": "Python 3 (ipykernel)",
   "language": "python",
   "name": "python3"
  },
  "language_info": {
   "codemirror_mode": {
    "name": "ipython",
    "version": 3
   },
   "file_extension": ".py",
   "mimetype": "text/x-python",
   "name": "python",
   "nbconvert_exporter": "python",
   "pygments_lexer": "ipython3",
   "version": "3.8.13"
  },
  "vscode": {
   "interpreter": {
    "hash": "20b65602904a6ff3fc15d4434a7c8a93588f98c76b1baa36944f5d2c44ba5b97"
   }
  }
 },
 "nbformat": 4,
 "nbformat_minor": 2
}
